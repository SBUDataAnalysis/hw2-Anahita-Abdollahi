{
  "cells": [
    {
      "cell_type": "markdown",
      "metadata": {
        "id": "liFhV44DrQzo"
      },
      "source": [
        "# Random Walk\n"
      ]
    },
    {
      "cell_type": "markdown",
      "metadata": {
        "id": "8gRhIK4RrQzp"
      },
      "source": [
        "As a physics student sometimes you see some random movement in nature like brownian motion(it's actually deterministic). we can use stochastic litrature to study brownian motion and find lots of valuable information about this process. Random walk is somehow one of the most instructive models that can help you understand how random process can model the nature."
      ]
    },
    {
      "cell_type": "markdown",
      "metadata": {
        "id": "pe73rAbPrQzq"
      },
      "source": [
        "for the beging let's see what random walk is. according to Wikipedia(https://en.wikipedia.org/wiki/Random_walk) random walk is a mathematical object, known as a stochastic or random process, that describes a path that consists of a succession of random steps on some mathematical space such as the integers.\n",
        "\n",
        "An elementary example of a random walk is the random walk on the integer number line, ${\\displaystyle \\mathbb {Z} }$ , which starts at 0 and at each step moves +1 or −1 with equal probability. Other examples include the path traced by a molecule as it travels in a liquid or a gas (see Brownian motion), the search path of a foraging animal, the price of a fluctuating stock and the financial status of a gambler: all can be approximated by random walk models, even though they may not be truly random in reality."
      ]
    },
    {
      "cell_type": "markdown",
      "metadata": {
        "id": "yqOYKewKrQzt"
      },
      "source": [
        "We know that you are passionate and want to explore all details of these process(joke :) ) but for the begining let's start with the simplest model, one dimensional random walk with same probability for right and left step."
      ]
    },
    {
      "cell_type": "markdown",
      "metadata": {
        "id": "mzJ04NA4rQzv"
      },
      "source": [
        "1. the simplest model of random walk is a One-dimensional random walk, which starts at 0 and at each step moves +1 or −1 with equal probability. consider 10000_step 1d random walk. and use $10^5$ ensemble. in each ensemble begin from the origin(0) and record the endpoint at 10000th step. plot the PDF of these endpoints. also, calculate the first four moments of this PDF."
      ]
    },
    {
      "cell_type": "code",
      "execution_count": null,
      "metadata": {
        "id": "jMOHaTDurQzx",
        "colab": {
          "base_uri": "https://localhost:8080/",
          "height": 265
        },
        "outputId": "8a032135-f99d-4b61-8851-116b50d3638f"
      },
      "outputs": [
        {
          "output_type": "display_data",
          "data": {
            "image/png": "[encoded data removed]",
            "text/plain": [
              "<Figure size 432x288 with 1 Axes>"
            ]
          },
          "metadata": {
            "needs_background": "light"
          }
        }
      ],
      "source": [
        "import numpy as np\n",
        "\n",
        "def one_dim_random(steps, ensembles):\n",
        "    ens_list = []\n",
        "    for ens in range (ensembles):\n",
        "\n",
        "        step = 2 * np.random.randint(0,2,size = (steps)) -1\n",
        "        endpoint = np.sum(step)\n",
        "        ens_list.append(endpoint)\n",
        "      \n",
        "    return ens_list  \n",
        "\n",
        "import matplotlib.pyplot as plt\n",
        "\n",
        "plt.hist(one_dim_random(10000, 100000), bins = 50);"
      ]
    },
    {
      "cell_type": "markdown",
      "metadata": {
        "id": "299PGy3irQz0"
      },
      "source": [
        "now look at the plot you create. does it looklike a normal distribution? if yes isn't it strange cause we know that the probability is bionomial not guassian.\n"
      ]
    },
    {
      "cell_type": "code",
      "execution_count": null,
      "metadata": {
        "id": "pkxmzJawrQz1",
        "colab": {
          "base_uri": "https://localhost:8080/",
          "height": 265
        },
        "outputId": "f1e62a36-311f-4871-baa7-1054ca19401d"
      },
      "outputs": [
        {
          "output_type": "display_data",
          "data": {
            "image/png": "[encoded data removed]",
            "text/plain": [
              "<Figure size 432x288 with 1 Axes>"
            ]
          },
          "metadata": {
            "needs_background": "light"
          }
        }
      ],
      "source": [
        "from numpy.core.fromnumeric import size\n",
        "plt.hist(np.random.binomial(10000, 1/2, size=100000) - 5000, bins=50);"
      ]
    },
    {
      "cell_type": "code",
      "source": [
        "np.random.binomial(10000, 1/2, size=100000) - 5000"
      ],
      "metadata": {
        "colab": {
          "base_uri": "https://localhost:8080/"
        },
        "id": "gAbXjSLj5E7X",
        "outputId": "21cd09cb-0d37-4a07-cb35-27b5538e02b5"
      },
      "execution_count": null,
      "outputs": [
        {
          "output_type": "execute_result",
          "data": {
            "text/plain": [
              "array([-56,  20, -18, ...,  18, -34,  -7])"
            ]
          },
          "metadata": {},
          "execution_count": 7
        }
      ]
    },
    {
      "cell_type": "markdown",
      "metadata": {
        "id": "42lJz-PsrQz3"
      },
      "source": [
        "2.change the probability of jumping to right and left in a way that $P_{left} = 2 P_{right}$ and then repeat the process of Q1 again and evaluate the PDF and first four moments and cumulants. "
      ]
    },
    {
      "cell_type": "code",
      "execution_count": null,
      "metadata": {
        "id": "Mf7JVqSCrQz4",
        "colab": {
          "base_uri": "https://localhost:8080/",
          "height": 265
        },
        "outputId": "0331837e-0c2f-47b6-f370-769397c13f38"
      },
      "outputs": [
        {
          "output_type": "display_data",
          "data": {
            "image/png": "[encoded data removed]",
            "text/plain": [
              "<Figure size 432x288 with 1 Axes>"
            ]
          },
          "metadata": {
            "needs_background": "light"
          }
        }
      ],
      "source": [
        "import numpy as np\n",
        "\n",
        "def one_dim_random(steps, ensembles):\n",
        "    ens_list = []\n",
        "    for ens in range (ensembles):\n",
        "\n",
        "        step = np.random.choice([-1, -1, 1], size = steps )\n",
        "        endpoint = np.sum(step)\n",
        "        ens_list.append(endpoint)\n",
        "      \n",
        "    return ens_list  \n",
        "\n",
        "import matplotlib.pyplot as plt\n",
        "\n",
        "plt.hist(one_dim_random(10000, 100000), bins = 50);"
      ]
    },
    {
      "cell_type": "markdown",
      "metadata": {
        "id": "4cz1k_LKrQz5"
      },
      "source": [
        "according to your result, can you tell how the shape of PDF function related to its cumulants?"
      ]
    },
    {
      "cell_type": "markdown",
      "metadata": {
        "id": "Ye7BBFbqrQz6"
      },
      "source": [
        "# Conditional Probability\n"
      ]
    },
    {
      "cell_type": "markdown",
      "metadata": {
        "id": "0w39T3kgrQz7"
      },
      "source": [
        "![.jpg](attachment:.jpg)"
      ]
    },
    {
      "cell_type": "markdown",
      "metadata": {
        "id": "pAhprggDrQz7"
      },
      "source": [
        "Suppose you're on a game show, and you're given the choice of three doors: Behind one door is a car; behind the others, goats. You pick a door, say No. 1, and the host, who knows what's behind the doors, opens another door, say No. 3, which has a goat. He then says to you, \"Do you want to pick door No. 2?\" Is it to your advantage to switch your choice? if Yes write a it's code to tell Us why and if your answer is No code it to prove the first group they are wrong:)"
      ]
    },
    {
      "cell_type": "code",
      "execution_count": 2,
      "metadata": {
        "id": "oIb6U9vhrQz9",
        "colab": {
          "base_uri": "https://localhost:8080/"
        },
        "outputId": "dc595a20-19a3-44cf-d8b2-707225ec6781"
      },
      "outputs": [
        {
          "output_type": "stream",
          "name": "stdout",
          "text": [
            "0.33433433433433435\n"
          ]
        }
      ],
      "source": [
        "import random\n",
        "\n",
        "result_without_changing_choice = []\n",
        "for i in range(1, 1000):\n",
        "  doors = ['car', 'goat', 'goat']\n",
        "  random.shuffle(doors)\n",
        "  doors_indexes = [0, 1, 2]\n",
        "  car_index = doors.index('car')\n",
        "\n",
        "  contestant_choice_index = random.choice(doors_indexes)\n",
        "  doors_indexes.remove(contestant_choice_index)\n",
        "\n",
        "  if (car_index != contestant_choice_index):\n",
        "    doors_indexes.remove(car_index)\n",
        "  host_choice_index = random.choice(doors_indexes)\n",
        "\n",
        "  \n",
        "\n",
        "  # If the contestant doesn't change their choice:\n",
        "  success = contestant_choice_index == car_index\n",
        "  result_without_changing_choice.append(success)\n",
        "\n",
        "success_rate_wihtout_changing_choice = (result_without_changing_choice.count(True) / len(result_without_changing_choice))\n",
        "print(success_rate_wihtout_changing_choice)"
      ]
    },
    {
      "cell_type": "code",
      "source": [
        "#a failed attempt at simulating choice change \n",
        "result_with_changing_choice = []\n",
        "for i in range(1, 1000):\n",
        "  doors = ['car', 'goat', 'goat']\n",
        "  random.shuffle(doors)\n",
        "  doors_indexes = [0, 1, 2]\n",
        "  car_index = doors.index('car')\n",
        "\n",
        "  contestant_choice_index = random.choice(doors_indexes)\n",
        "  doors_indexes.remove(contestant_choice_index)\n",
        "  host_choice_index = random.choice(doors_indexes)\n",
        "  \n",
        "  x = doors_indexes.pop(host_choice_index)\n",
        "\n",
        "  if (x == car_index):\n",
        "    contestant_choice_index = x\n",
        "  else:\n",
        "    contestant_choice_index = host_choice_index\n",
        "    host_choice_index =x\n",
        "\n",
        "\n",
        "  # If the contestant does change their choice:\n",
        "  success = contestant_choice_index == car_index\n",
        "  result_without_changing_choice.append(success)\n",
        "\n",
        "success_rate_wihtout_changing_choice = (result_without_changing_choice.count(True) / len(result_without_changing_choice))\n",
        "\n"
      ],
      "metadata": {
        "colab": {
          "base_uri": "https://localhost:8080/",
          "height": 244
        },
        "id": "9A7h18mZApmB",
        "outputId": "e1e1ccc9-4366-4115-d5ad-402a22fd7daf"
      },
      "execution_count": 3,
      "outputs": [
        {
          "output_type": "error",
          "ename": "IndexError",
          "evalue": "ignored",
          "traceback": [
            "\u001b[0;31m---------------------------------------------------------------------------\u001b[0m",
            "\u001b[0;31mIndexError\u001b[0m                                Traceback (most recent call last)",
            "\u001b[0;32m<ipython-input-3-84db310f4cc7>\u001b[0m in \u001b[0;36m<module>\u001b[0;34m()\u001b[0m\n\u001b[1;32m     11\u001b[0m   \u001b[0mhost_choice_index\u001b[0m \u001b[0;34m=\u001b[0m \u001b[0mrandom\u001b[0m\u001b[0;34m.\u001b[0m\u001b[0mchoice\u001b[0m\u001b[0;34m(\u001b[0m\u001b[0mdoors_indexes\u001b[0m\u001b[0;34m)\u001b[0m\u001b[0;34m\u001b[0m\u001b[0;34m\u001b[0m\u001b[0m\n\u001b[1;32m     12\u001b[0m \u001b[0;34m\u001b[0m\u001b[0m\n\u001b[0;32m---> 13\u001b[0;31m   \u001b[0mx\u001b[0m \u001b[0;34m=\u001b[0m \u001b[0mdoors_indexes\u001b[0m\u001b[0;34m.\u001b[0m\u001b[0mpop\u001b[0m\u001b[0;34m(\u001b[0m\u001b[0mhost_choice_index\u001b[0m\u001b[0;34m)\u001b[0m\u001b[0;34m\u001b[0m\u001b[0;34m\u001b[0m\u001b[0m\n\u001b[0m\u001b[1;32m     14\u001b[0m \u001b[0;34m\u001b[0m\u001b[0m\n\u001b[1;32m     15\u001b[0m   \u001b[0;32mif\u001b[0m \u001b[0;34m(\u001b[0m\u001b[0mx\u001b[0m \u001b[0;34m==\u001b[0m \u001b[0mcar_index\u001b[0m\u001b[0;34m)\u001b[0m\u001b[0;34m:\u001b[0m\u001b[0;34m\u001b[0m\u001b[0;34m\u001b[0m\u001b[0m\n",
            "\u001b[0;31mIndexError\u001b[0m: pop index out of range"
          ]
        }
      ]
    },
    {
      "cell_type": "markdown",
      "metadata": {
        "id": "8u0PonKgrQz9"
      },
      "source": [
        "# Centeral limit theorem"
      ]
    },
    {
      "cell_type": "markdown",
      "metadata": {
        "id": "hcBO1aGSrQz-"
      },
      "source": [
        "Choose a non-Gaussian distribution (uniform/bionomial/poission) and generate $10^5$ random variables for each of them.                                                      \n",
        "a) plot the PDF of samples you created .                                                   \n",
        "b) create $10^4$ random subset of length {2 , 5 , 10 , 20 , 100} from the first non-Gaussian distribution and caclculate mean of each subset, then plot the PDF of these means.                                                                       \n",
        "c) what do you understand form comparing the original distribution with those five?\n"
      ]
    },
    {
      "cell_type": "code",
      "execution_count": null,
      "metadata": {
        "id": "1QSEeKWDrQz_",
        "colab": {
          "base_uri": "https://localhost:8080/",
          "height": 156
        },
        "outputId": "b0211ce8-9ab5-49f9-9c9d-773810dc7b71"
      },
      "outputs": [
        {
          "output_type": "execute_result",
          "data": {
            "text/plain": [
              "Text(0.5, 1.0, 'sample size = 100')"
            ]
          },
          "metadata": {},
          "execution_count": 74
        },
        {
          "output_type": "display_data",
          "data": {
            "image/png": "[encoded data removed]",
            "text/plain": [
              "<Figure size 1080x216 with 6 Axes>"
            ]
          },
          "metadata": {
            "needs_background": "light"
          }
        }
      ],
      "source": [
        "import numpy as np\n",
        "plt.figure(figsize = (15, 3))\n",
        "uniform_random_list = np.random.uniform(-1, 1, 100000)\n",
        "plt.subplot(2, 6, 1)\n",
        "plt.hist(uniform_random_list, bins = 50);\n",
        "plt.title('Uniform Distribiution of size 10^5 ')\n",
        "\n",
        "samples_2 = []\n",
        "for i in range(2500):\n",
        "  samples_2.append([np.random.choice(uniform_random_list, size = 2)])\n",
        "\n",
        "#samples of size 2 \n",
        "means_2 = []\n",
        "for sample in (samples_2):\n",
        "  means_2.append(np.mean(sample))\n",
        "plt.subplot(2, 6, 2)\n",
        "plt.hist(means_2); \n",
        "plt.title('sample size = 2') \n",
        "\n",
        "#samples of size 5\n",
        "samples_5 = []\n",
        "for i in range(2500):\n",
        "  samples_5.append([np.random.choice(uniform_random_list, size = 5)])\n",
        "means_5 = []\n",
        "for sample in (samples_5):\n",
        "  means_5.append(np.mean(sample))\n",
        "plt.subplot(2, 6, 3)\n",
        "plt.hist(means_5); \n",
        "plt.title('sample size = 5')\n",
        "\n",
        "#samples of size 10 \n",
        "samples_10 = []\n",
        "for i in range(2500):\n",
        "  samples_10.append([np.random.choice(uniform_random_list, size = 10)])\n",
        "means_10 = []\n",
        "for sample in (samples_10):\n",
        "  means_10.append(np.mean(sample))\n",
        "plt.subplot(2, 6, 4)\n",
        "plt.hist(means_10); \n",
        "plt.title('sample size = 10')\n",
        "\n",
        "#samples of size 20 \n",
        "samples_20 = []\n",
        "for i in range(2500):\n",
        "  samples_20.append([np.random.choice(uniform_random_list, size = 20)])\n",
        "means_20 = []\n",
        "for sample in (samples_20):\n",
        "  means_20.append(np.mean(sample))\n",
        "plt.subplot(2, 6, 5)\n",
        "plt.hist(means_20); \n",
        "plt.title('sample size = 20')\n",
        "\n",
        "#samples of size 100\n",
        "samples_100 = []\n",
        "for i in range(2500):\n",
        "  samples_100.append([np.random.choice(uniform_random_list, size = 100)])\n",
        "means_100 = []\n",
        "for sample in (samples_100):\n",
        "  means_100.append(np.mean(sample))\n",
        "plt.subplot(2, 6, 6)\n",
        "plt.hist(means_100); \n",
        "plt.title('sample size = 100')"
      ]
    },
    {
      "cell_type": "code",
      "source": [
        "samples"
      ],
      "metadata": {
        "colab": {
          "base_uri": "https://localhost:8080/"
        },
        "id": "5nE1B6ZbZm0S",
        "outputId": "2b0c9a0a-ec51-4393-8ca8-ed948cd4f144"
      },
      "execution_count": null,
      "outputs": [
        {
          "output_type": "stream",
          "name": "stdout",
          "text": [
            "Object `.sample` not found.\n"
          ]
        }
      ]
    },
    {
      "cell_type": "markdown",
      "metadata": {
        "id": "2QZqB_0crQ0A"
      },
      "source": [
        "# Poission Approximation"
      ]
    },
    {
      "cell_type": "markdown",
      "metadata": {
        "id": "XKd9HWP4rQ0A"
      },
      "source": [
        "Use python libraries to generate bionomial and poission distributions for different N’s (remember $\\lambda =NP$). Over plot them for N = {5, 10, 20, 50, 100, 200, 1000}\n",
        "How does it behave as N increases? \n",
        "\n"
      ]
    },
    {
      "cell_type": "code",
      "execution_count": null,
      "metadata": {
        "id": "PzFyaDxkrQ0B"
      },
      "outputs": [],
      "source": [
        ""
      ]
    },
    {
      "cell_type": "markdown",
      "metadata": {
        "id": "fiec0zVWrQ0C"
      },
      "source": [
        "# Box Muller Method"
      ]
    },
    {
      "cell_type": "markdown",
      "metadata": {
        "id": "wKxAbHihrQ0C"
      },
      "source": [
        "1- generate Normal distribution from uniform distribution (Box-Muller algorithm(https://en.wikipedia.org/wiki/Box%E2%80%93Muller_transform)- do not need to derive and prove it. the topic will be included in lectures in the following week). Normal= zero mean, unit variance    \n",
        "a)Sample many points from this distribution. plot the pdf of the sample (plot hist).             \n",
        "                              \n"
      ]
    },
    {
      "cell_type": "code",
      "execution_count": null,
      "metadata": {
        "id": "yEKWmfCmrQ0C"
      },
      "outputs": [],
      "source": [
        "#code here"
      ]
    },
    {
      "cell_type": "markdown",
      "metadata": {
        "id": "rzY1ceGirQ0D"
      },
      "source": [
        "b)Calculate mean of the sample. Its variance."
      ]
    },
    {
      "cell_type": "code",
      "execution_count": null,
      "metadata": {
        "id": "IwdLJHBQrQ0D"
      },
      "outputs": [],
      "source": [
        "#code here"
      ]
    },
    {
      "cell_type": "markdown",
      "metadata": {
        "id": "RmUMS_OorQ0E"
      },
      "source": [
        "c)Overplot the pdf now, using this mean and variance (on the plot hist). Also use the mean and std deviation functions from python library. Do they agree?"
      ]
    },
    {
      "cell_type": "code",
      "execution_count": null,
      "metadata": {
        "id": "eyNuRO52rQ0E"
      },
      "outputs": [],
      "source": [
        "#code here"
      ]
    },
    {
      "cell_type": "markdown",
      "metadata": {
        "id": "OPHhsnDlrQ0F"
      },
      "source": [
        "d)Now that you have your Normal distribution, how can you turn it into a Gaussian distribution with  given mean and variance? For example mean=2, and std dev=4 ?   "
      ]
    },
    {
      "cell_type": "code",
      "execution_count": null,
      "metadata": {
        "id": "WXL0wEbZrQ0F"
      },
      "outputs": [],
      "source": [
        "#code here"
      ]
    },
    {
      "cell_type": "markdown",
      "metadata": {
        "id": "QlT4cy03rQ0G"
      },
      "source": [
        "there are two problems left, but you can choose one of them to solve.(we highly recommend you to solve both of them)"
      ]
    },
    {
      "cell_type": "markdown",
      "metadata": {
        "id": "zW0sPS_qrQ0G"
      },
      "source": [
        "# Nice Matrix"
      ]
    },
    {
      "cell_type": "markdown",
      "metadata": {
        "id": "zxp5QLefrQ0G"
      },
      "source": [
        "A matrix of size n$\\times$n which include numbers of {1,2,3,...,$n^2$} is called nice, if sum of all rows and columns  are the same. write a code that get n as a input and return a n$\\times$n Nice Matrix. print out the examples of Nice Matrix for n = 4,5,6"
      ]
    },
    {
      "cell_type": "code",
      "execution_count": 6,
      "metadata": {
        "id": "C3gbZBvCrQ0H",
        "colab": {
          "base_uri": "https://localhost:8080/",
          "height": 426
        },
        "outputId": "75c17ac4-8c63-4168-b233-75aa7dadc34b"
      },
      "outputs": [
        {
          "output_type": "stream",
          "name": "stdout",
          "text": [
            " 2  7  6 \n",
            " 9  5  1 \n",
            " 4  3  8 \n",
            "None\n"
          ]
        },
        {
          "output_type": "error",
          "ename": "IndexError",
          "evalue": "ignored",
          "traceback": [
            "\u001b[0;31m---------------------------------------------------------------------------\u001b[0m",
            "\u001b[0;31mIndexError\u001b[0m                                Traceback (most recent call last)",
            "\u001b[0;32m<ipython-input-6-dc5c4fc1ad16>\u001b[0m in \u001b[0;36m<module>\u001b[0;34m()\u001b[0m\n\u001b[1;32m     48\u001b[0m \u001b[0;34m\u001b[0m\u001b[0m\n\u001b[1;32m     49\u001b[0m \u001b[0mprint\u001b[0m\u001b[0;34m(\u001b[0m\u001b[0mniceMatrix\u001b[0m\u001b[0;34m(\u001b[0m\u001b[0;36m3\u001b[0m\u001b[0;34m)\u001b[0m\u001b[0;34m)\u001b[0m\u001b[0;34m\u001b[0m\u001b[0;34m\u001b[0m\u001b[0m\n\u001b[0;32m---> 50\u001b[0;31m \u001b[0mprint\u001b[0m\u001b[0;34m(\u001b[0m\u001b[0mniceMatrix\u001b[0m\u001b[0;34m(\u001b[0m\u001b[0;36m4\u001b[0m\u001b[0;34m)\u001b[0m\u001b[0;34m)\u001b[0m\u001b[0;34m\u001b[0m\u001b[0;34m\u001b[0m\u001b[0m\n\u001b[0m\u001b[1;32m     51\u001b[0m \u001b[0mprint\u001b[0m\u001b[0;34m(\u001b[0m\u001b[0mniceMatrix\u001b[0m\u001b[0;34m(\u001b[0m\u001b[0;36m5\u001b[0m\u001b[0;34m)\u001b[0m\u001b[0;34m)\u001b[0m\u001b[0;34m\u001b[0m\u001b[0;34m\u001b[0m\u001b[0m\n",
            "\u001b[0;32m<ipython-input-6-dc5c4fc1ad16>\u001b[0m in \u001b[0;36mniceMatrix\u001b[0;34m(n)\u001b[0m\n\u001b[1;32m     26\u001b[0m                 \u001b[0mi\u001b[0m \u001b[0;34m=\u001b[0m \u001b[0mn\u001b[0m \u001b[0;34m-\u001b[0m \u001b[0;36m1\u001b[0m\u001b[0;34m\u001b[0m\u001b[0;34m\u001b[0m\u001b[0m\n\u001b[1;32m     27\u001b[0m \u001b[0;34m\u001b[0m\u001b[0m\n\u001b[0;32m---> 28\u001b[0;31m         \u001b[0;32mif\u001b[0m \u001b[0mniceMatrix\u001b[0m\u001b[0;34m[\u001b[0m\u001b[0mint\u001b[0m\u001b[0;34m(\u001b[0m\u001b[0mi\u001b[0m\u001b[0;34m)\u001b[0m\u001b[0;34m]\u001b[0m\u001b[0;34m[\u001b[0m\u001b[0mint\u001b[0m\u001b[0;34m(\u001b[0m\u001b[0mj\u001b[0m\u001b[0;34m)\u001b[0m\u001b[0;34m]\u001b[0m\u001b[0;34m:\u001b[0m  \u001b[0;31m# 2nd condition\u001b[0m\u001b[0;34m\u001b[0m\u001b[0;34m\u001b[0m\u001b[0m\n\u001b[0m\u001b[1;32m     29\u001b[0m             \u001b[0mj\u001b[0m \u001b[0;34m=\u001b[0m \u001b[0mj\u001b[0m \u001b[0;34m-\u001b[0m \u001b[0;36m2\u001b[0m\u001b[0;34m\u001b[0m\u001b[0;34m\u001b[0m\u001b[0m\n\u001b[1;32m     30\u001b[0m             \u001b[0mi\u001b[0m \u001b[0;34m=\u001b[0m \u001b[0mi\u001b[0m \u001b[0;34m+\u001b[0m \u001b[0;36m1\u001b[0m\u001b[0;34m\u001b[0m\u001b[0;34m\u001b[0m\u001b[0m\n",
            "\u001b[0;31mIndexError\u001b[0m: list index out of range"
          ]
        }
      ],
      "source": [
        "def niceMatrix(n):\n",
        " \n",
        "    niceMatrix = [[0 for x in range(n)]\n",
        "                   for y in range(n)]\n",
        " \n",
        "    # initialize position of 1\n",
        "    i = n // 2\n",
        "    j = n - 1\n",
        " \n",
        "    # Fill the matrix\n",
        "    num = 1\n",
        "    while num <= (n * n):\n",
        "        if i == -1 and j == n:  # 3rd condition\n",
        "            j = n - 2\n",
        "            i = 0\n",
        "        else:\n",
        " \n",
        "            # next number goes out of\n",
        "            # right side of square\n",
        "            if j == n:\n",
        "                j = 0\n",
        " \n",
        "            # next number goes\n",
        "            # out of upper side\n",
        "            if i < 0:\n",
        "                i = n - 1\n",
        " \n",
        "        if niceMatrix[int(i)][int(j)]:  # 2nd condition\n",
        "            j = j - 2\n",
        "            i = i + 1\n",
        "            continue\n",
        "        else:\n",
        "            niceMatrix[int(i)][int(j)] = num\n",
        "            num = num + 1\n",
        " \n",
        "        j = j + 1\n",
        "        i = i - 1  # 1st condition\n",
        "\n",
        "    # print(\"Sum of each row or column\",\n",
        "    #       n * (n * n + 1) // 2, \"\\n\")\n",
        " \n",
        "    for i in range(0, n):\n",
        "        for j in range(0, n):\n",
        "            print('%2d ' % (niceMatrix[i][j]),end='')\n",
        "\n",
        "            if j == n - 1:\n",
        "                print()\n",
        "\n",
        "print(niceMatrix(3))\n",
        "print(niceMatrix(4))\n",
        "print(niceMatrix(5))\n",
        "#doesn't work for n>3 and I can't figure out why???"
      ]
    },
    {
      "cell_type": "markdown",
      "metadata": {
        "id": "b1n2E-6qrQ0H"
      },
      "source": [
        "# Honest and Liers"
      ]
    },
    {
      "cell_type": "markdown",
      "metadata": {
        "id": "kXNRtH-TrQ0I"
      },
      "source": [
        "Suppose there 16 People sit around a circular table.  ٍEach claims that the two people next to him/her are liars. How many liars are there in the crowd? "
      ]
    },
    {
      "cell_type": "code",
      "execution_count": null,
      "metadata": {
        "id": "L2fUyv_crQ0I"
      },
      "outputs": [],
      "source": [
        "#code here "
      ]
    }
  ],
  "metadata": {
    "hide_input": false,
    "kernelspec": {
      "display_name": "Python 3",
      "language": "python",
      "name": "python3"
    },
    "language_info": {
      "codemirror_mode": {
        "name": "ipython",
        "version": 3
      },
      "file_extension": ".py",
      "mimetype": "text/x-python",
      "name": "python",
      "nbconvert_exporter": "python",
      "pygments_lexer": "ipython3",
      "version": "3.7.0"
    },
    "toc": {
      "base_numbering": 1,
      "nav_menu": {},
      "number_sections": true,
      "sideBar": true,
      "skip_h1_title": false,
      "title_cell": "Table of Contents",
      "title_sidebar": "Contents",
      "toc_cell": false,
      "toc_position": {
        "height": "calc(100% - 180px)",
        "left": "10px",
        "top": "150px",
        "width": "165px"
      },
      "toc_section_display": true,
      "toc_window_display": true
    },
    "colab": {
      "name": "Data_Analysis_HW1.ipynb",
      "provenance": [],
      "collapsed_sections": []
    }
  },
  "nbformat": 4,
  "nbformat_minor": 0
}